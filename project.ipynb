{
 "cells": [
  {
   "cell_type": "markdown",
   "id": "073a738e",
   "metadata": {},
   "source": [
    "# Heart Disease Classification Using Machine Learning"
   ]
  },
  {
   "cell_type": "markdown",
   "id": "cc086d26",
   "metadata": {},
   "source": [
    "### Import the library\n"
   ]
  },
  {
   "cell_type": "code",
   "execution_count": null,
   "id": "3c9860c4",
   "metadata": {
    "vscode": {
     "languageId": "plaintext"
    }
   },
   "outputs": [],
   "source": [
    "import numpy as np"
   ]
  }
 ],
 "metadata": {
  "language_info": {
   "name": "python"
  }
 },
 "nbformat": 4,
 "nbformat_minor": 5
}
